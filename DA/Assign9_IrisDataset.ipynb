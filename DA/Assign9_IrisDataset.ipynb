{
 "cells": [
  {
   "cell_type": "code",
   "execution_count": 1,
   "metadata": {},
   "outputs": [],
   "source": [
    "import pandas as pd\n",
    "import numpy as np"
   ]
  },
  {
   "cell_type": "code",
   "execution_count": 2,
   "metadata": {},
   "outputs": [],
   "source": [
    "df = pd.read_csv(\"iris.csv\")"
   ]
  },
  {
   "cell_type": "code",
   "execution_count": 3,
   "metadata": {},
   "outputs": [
    {
     "data": {
      "text/html": [
       "<div>\n",
       "<style scoped>\n",
       "    .dataframe tbody tr th:only-of-type {\n",
       "        vertical-align: middle;\n",
       "    }\n",
       "\n",
       "    .dataframe tbody tr th {\n",
       "        vertical-align: top;\n",
       "    }\n",
       "\n",
       "    .dataframe thead th {\n",
       "        text-align: right;\n",
       "    }\n",
       "</style>\n",
       "<table border=\"1\" class=\"dataframe\">\n",
       "  <thead>\n",
       "    <tr style=\"text-align: right;\">\n",
       "      <th></th>\n",
       "      <th>sepal length</th>\n",
       "      <th>sepal width</th>\n",
       "      <th>petal length</th>\n",
       "      <th>petal width</th>\n",
       "      <th>class</th>\n",
       "    </tr>\n",
       "  </thead>\n",
       "  <tbody>\n",
       "    <tr>\n",
       "      <th>0</th>\n",
       "      <td>5.1</td>\n",
       "      <td>3.5</td>\n",
       "      <td>1.4</td>\n",
       "      <td>0.2</td>\n",
       "      <td>Iris-setosa</td>\n",
       "    </tr>\n",
       "    <tr>\n",
       "      <th>1</th>\n",
       "      <td>4.9</td>\n",
       "      <td>3.0</td>\n",
       "      <td>1.4</td>\n",
       "      <td>0.2</td>\n",
       "      <td>Iris-setosa</td>\n",
       "    </tr>\n",
       "    <tr>\n",
       "      <th>2</th>\n",
       "      <td>4.7</td>\n",
       "      <td>3.2</td>\n",
       "      <td>1.3</td>\n",
       "      <td>0.2</td>\n",
       "      <td>Iris-setosa</td>\n",
       "    </tr>\n",
       "    <tr>\n",
       "      <th>3</th>\n",
       "      <td>4.6</td>\n",
       "      <td>3.1</td>\n",
       "      <td>1.5</td>\n",
       "      <td>0.2</td>\n",
       "      <td>Iris-setosa</td>\n",
       "    </tr>\n",
       "    <tr>\n",
       "      <th>4</th>\n",
       "      <td>5.0</td>\n",
       "      <td>3.6</td>\n",
       "      <td>1.4</td>\n",
       "      <td>0.2</td>\n",
       "      <td>Iris-setosa</td>\n",
       "    </tr>\n",
       "  </tbody>\n",
       "</table>\n",
       "</div>"
      ],
      "text/plain": [
       "   sepal length   sepal width   petal length   petal width        class\n",
       "0           5.1           3.5            1.4           0.2  Iris-setosa\n",
       "1           4.9           3.0            1.4           0.2  Iris-setosa\n",
       "2           4.7           3.2            1.3           0.2  Iris-setosa\n",
       "3           4.6           3.1            1.5           0.2  Iris-setosa\n",
       "4           5.0           3.6            1.4           0.2  Iris-setosa"
      ]
     },
     "execution_count": 3,
     "metadata": {},
     "output_type": "execute_result"
    }
   ],
   "source": [
    "df.head()"
   ]
  },
  {
   "cell_type": "code",
   "execution_count": 4,
   "metadata": {},
   "outputs": [
    {
     "name": "stdout",
     "output_type": "stream",
     "text": [
      "Number of features in dataframe : 5\n"
     ]
    }
   ],
   "source": [
    "print(\"Number of features in dataframe : {}\".format(len(df.columns)))"
   ]
  },
  {
   "cell_type": "code",
   "execution_count": 5,
   "metadata": {},
   "outputs": [
    {
     "name": "stdout",
     "output_type": "stream",
     "text": [
      "Feature\t\tType\n",
      " sepal length     float64\n",
      " sepal width     float64\n",
      " petal length    float64\n",
      " petal width     float64\n",
      " class            object\n",
      "dtype: object\n"
     ]
    }
   ],
   "source": [
    "print(\"Feature\\t\\tType\\n\", df.dtypes)"
   ]
  },
  {
   "cell_type": "code",
   "execution_count": 92,
   "metadata": {},
   "outputs": [
    {
     "name": "stdout",
     "output_type": "stream",
     "text": [
      "                 sepal length   sepal width   petal length   petal width\n",
      "Min                  4.300000      2.000000       1.000000      0.100000\n",
      "Max                  7.900000      4.400000       6.900000      2.500000\n",
      "Mean                 5.843333      3.054000       3.758667      1.198667\n",
      "Range                3.600000      2.400000       5.900000      2.400000\n",
      "SD                   0.825301      0.432147       1.758529      0.760613\n",
      "Variance             0.681122      0.186751       3.092425      0.578532\n",
      "90th Percentile      6.900000      3.610000       5.800000      2.200000\n"
     ]
    }
   ],
   "source": [
    "stats  = pd.DataFrame(np.zeros((7, 4)), index=[\"Min\", \"Max\", \"Mean\", \"Range\", \"SD\", \"Variance\", \"90th Percentile\"], columns=df.columns[0:4:1])\n",
    "stats.loc[\"Min\"] = df.min()\n",
    "stats.loc[\"Max\"] = df.max()\n",
    "stats.loc[\"Mean\"] = df.mean()\n",
    "stats.loc[\"Range\"] = stats.loc[\"Max\"]-stats.loc[\"Min\"]\n",
    "stats.loc[\"SD\"] = df.std(ddof=0)\n",
    "stats.loc[\"Variance\"] = df.var(ddof=0)\n",
    "stats.loc[\"90th Percentile\"] = df.quantile(0.9)\n",
    "print(stats)"
   ]
  },
  {
   "cell_type": "code",
   "execution_count": 95,
   "metadata": {},
   "outputs": [],
   "source": [
    "def generateStats(df):\n",
    "    stats  = pd.DataFrame(np.zeros((7, 4)), index=[\"Min\", \"Max\", \"Mean\", \"Range\", \"SD\", \"Variance\", \"90th Percentile\"], columns=df.columns[0:4:1])\n",
    "    \n",
    "    stats.loc[\"Max\"] = df.max()\n",
    "    stats.loc[\"Min\"] = df.min()\n",
    "    \n",
    "    mean = pd.Series(np.zeros(4), index = df.columns[:4:])\n",
    "    percentile = pd.Series(np.zeros(4), index = df.columns[:4:])\n",
    "    \n",
    "    for i in df.columns[:4:]:\n",
    "        currCol = df[i].to_numpy()\n",
    "        currCol = np.sort(currCol)\n",
    "        for j in range(len(df.index)):\n",
    "            mean[i] += df.iloc[j][i]\n",
    "        percentile[i] = currCol[(int)((len(currCol)+1)*0.9)-1]\n",
    "    \n",
    "    mean /= len(df.index)\n",
    "    \n",
    "    stats.loc[\"Mean\"] = mean\n",
    "    stats.loc[\"90th Percentile\"] = percentile\n",
    "    stats.loc[\"Range\"] = stats.loc[\"Max\"]-stats.loc[\"Min\"]\n",
    "    \n",
    "    variance = pd.Series(np.zeros(4), index = df.columns[:4:])\n",
    "    \n",
    "    for i in df.columns[:4:]:\n",
    "        currMean = mean[i]\n",
    "        for j in range(len(df.index)):\n",
    "            variance[i] += ((df.iloc[j][i] - currMean)**2)\n",
    "    \n",
    "    variance /= len(df.index)\n",
    "    \n",
    "    stats.loc[\"Variance\"] = variance\n",
    "    stats.loc[\"SD\"] = variance**0.5\n",
    "    \n",
    "    return stats"
   ]
  },
  {
   "cell_type": "code",
   "execution_count": 96,
   "metadata": {},
   "outputs": [
    {
     "name": "stdout",
     "output_type": "stream",
     "text": [
      "                 sepal length   sepal width   petal length   petal width\n",
      "Min                  4.300000      2.000000       1.000000      0.100000\n",
      "Max                  7.900000      4.400000       6.900000      2.500000\n",
      "Mean                 5.843333      3.054000       3.758667      1.198667\n",
      "Range                3.600000      2.400000       5.900000      2.400000\n",
      "SD                   0.825301      0.432147       1.758529      0.760613\n",
      "Variance             0.681122      0.186751       3.092425      0.578532\n",
      "90th Percentile      6.900000      3.600000       5.800000      2.200000\n"
     ]
    }
   ],
   "source": [
    "stats = generateStats(df)\n",
    "print(stats)"
   ]
  },
  {
   "cell_type": "code",
   "execution_count": 93,
   "metadata": {},
   "outputs": [
    {
     "data": {
      "image/png": "[encoded data removed]",
      "text/plain": [
       "<Figure size 432x288 with 4 Axes>"
      ]
     },
     "metadata": {
      "needs_background": "light"
     },
     "output_type": "display_data"
    }
   ],
   "source": [
    "histogram = df.hist()"
   ]
  },
  {
   "cell_type": "code",
   "execution_count": 94,
   "metadata": {},
   "outputs": [
    {
     "data": {
      "image/png": "[encoded data removed]",
      "text/plain": [
       "<Figure size 432x288 with 1 Axes>"
      ]
     },
     "metadata": {
      "needs_background": "light"
     },
     "output_type": "display_data"
    }
   ],
   "source": [
    "boxplot = df.boxplot()"
   ]
  },
  {
   "cell_type": "code",
   "execution_count": null,
   "metadata": {},
   "outputs": [],
   "source": []
  }
 ],
 "metadata": {
  "kernelspec": {
   "display_name": "Python 3",
   "language": "python",
   "name": "python3"
  },
  "language_info": {
   "codemirror_mode": {
    "name": "ipython",
    "version": 3
   },
   "file_extension": ".py",
   "mimetype": "text/x-python",
   "name": "python",
   "nbconvert_exporter": "python",
   "pygments_lexer": "ipython3",
   "version": "3.7.6"
  }
 },
 "nbformat": 4,
 "nbformat_minor": 4
}

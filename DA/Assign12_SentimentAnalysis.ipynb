{
 "cells": [
  {
   "cell_type": "code",
   "execution_count": 1,
   "metadata": {},
   "outputs": [],
   "source": [
    "import pandas as pd\n",
    "import nltk\n",
    "from sklearn.model_selection import train_test_split\n",
    "from sklearn.feature_extraction.text import TfidfVectorizer\n",
    "from sklearn.naive_bayes import MultinomialNB\n",
    "from sklearn import metrics"
   ]
  },
  {
   "cell_type": "code",
   "execution_count": 2,
   "metadata": {},
   "outputs": [],
   "source": [
    "text_dataframe = pd.read_csv('Train.csv')"
   ]
  },
  {
   "cell_type": "code",
   "execution_count": 3,
   "metadata": {},
   "outputs": [
    {
     "data": {
      "text/html": [
       "<div>\n",
       "<style scoped>\n",
       "    .dataframe tbody tr th:only-of-type {\n",
       "        vertical-align: middle;\n",
       "    }\n",
       "\n",
       "    .dataframe tbody tr th {\n",
       "        vertical-align: top;\n",
       "    }\n",
       "\n",
       "    .dataframe thead th {\n",
       "        text-align: right;\n",
       "    }\n",
       "</style>\n",
       "<table border=\"1\" class=\"dataframe\">\n",
       "  <thead>\n",
       "    <tr style=\"text-align: right;\">\n",
       "      <th></th>\n",
       "      <th>id</th>\n",
       "      <th>label</th>\n",
       "      <th>tweet</th>\n",
       "    </tr>\n",
       "  </thead>\n",
       "  <tbody>\n",
       "    <tr>\n",
       "      <th>0</th>\n",
       "      <td>1</td>\n",
       "      <td>0</td>\n",
       "      <td>@user when a father is dysfunctional and is s...</td>\n",
       "    </tr>\n",
       "    <tr>\n",
       "      <th>1</th>\n",
       "      <td>2</td>\n",
       "      <td>0</td>\n",
       "      <td>@user @user thanks for #lyft credit i can't us...</td>\n",
       "    </tr>\n",
       "    <tr>\n",
       "      <th>2</th>\n",
       "      <td>3</td>\n",
       "      <td>0</td>\n",
       "      <td>bihday your majesty</td>\n",
       "    </tr>\n",
       "    <tr>\n",
       "      <th>3</th>\n",
       "      <td>4</td>\n",
       "      <td>0</td>\n",
       "      <td>#model   i love u take with u all the time in ...</td>\n",
       "    </tr>\n",
       "    <tr>\n",
       "      <th>4</th>\n",
       "      <td>5</td>\n",
       "      <td>0</td>\n",
       "      <td>factsguide: society now    #motivation</td>\n",
       "    </tr>\n",
       "  </tbody>\n",
       "</table>\n",
       "</div>"
      ],
      "text/plain": [
       "   id  label                                              tweet\n",
       "0   1      0   @user when a father is dysfunctional and is s...\n",
       "1   2      0  @user @user thanks for #lyft credit i can't us...\n",
       "2   3      0                                bihday your majesty\n",
       "3   4      0  #model   i love u take with u all the time in ...\n",
       "4   5      0             factsguide: society now    #motivation"
      ]
     },
     "execution_count": 3,
     "metadata": {},
     "output_type": "execute_result"
    }
   ],
   "source": [
    "text_dataframe.head()"
   ]
  },
  {
   "cell_type": "code",
   "execution_count": 50,
   "metadata": {},
   "outputs": [],
   "source": [
    "x_train, x_test, y_train, y_test = train_test_split(text_dataframe.tweet, text_dataframe.label, train_size = 0.7, random_state=1)"
   ]
  },
  {
   "cell_type": "code",
   "execution_count": 51,
   "metadata": {},
   "outputs": [
    {
     "name": "stdout",
     "output_type": "stream",
     "text": [
      "32861\n"
     ]
    }
   ],
   "source": [
    "vectorizer = TfidfVectorizer(stop_words = 'english')\n",
    "vectorizer.fit(x_train)\n",
    "print(len(vectorizer.get_feature_names()))"
   ]
  },
  {
   "cell_type": "code",
   "execution_count": 52,
   "metadata": {},
   "outputs": [
    {
     "name": "stdout",
     "output_type": "stream",
     "text": [
      "  (0, 30826)\t0.22421728270536037\n",
      "  (0, 28204)\t0.2715333946501025\n",
      "  (0, 24950)\t0.2553967166747236\n",
      "  (0, 22675)\t0.2608551273433541\n",
      "  (0, 18198)\t0.2715333946501025\n",
      "  (0, 16921)\t0.23591918382370444\n",
      "  (0, 13929)\t0.28160682578116064\n",
      "  (0, 10139)\t0.27614841511253013\n",
      "  (0, 8751)\t0.30903907896272725\n",
      "  (0, 7880)\t0.30903907896272725\n",
      "  (0, 4225)\t0.2882873805249207\n",
      "  (0, 3046)\t0.30903907896272725\n",
      "  (0, 1062)\t0.29690011355033663\n",
      "  (1, 30472)\t0.13911009886961934\n",
      "  (1, 28754)\t0.34867484828014983\n",
      "  (1, 28687)\t0.3349790013417962\n",
      "  (1, 23918)\t0.623131592712119\n",
      "  (1, 17373)\t0.2744567444319692\n",
      "  (1, 12966)\t0.34867484828014983\n",
      "  (1, 12965)\t0.34867484828014983\n",
      "  (1, 12093)\t0.2002386405837885\n",
      "  (2, 32144)\t0.3130052736153177\n",
      "  (2, 31032)\t0.30119583538131156\n",
      "  (2, 30472)\t0.09958232052165875\n",
      "  (2, 28445)\t0.4991995661194605\n",
      "  :\t:\n",
      "  (22370, 24284)\t0.3546429992707467\n",
      "  (22370, 23964)\t0.3546429992707467\n",
      "  (22370, 19520)\t0.3546429992707467\n",
      "  (22370, 19195)\t0.3546429992707467\n",
      "  (22370, 17145)\t0.1959149496858897\n",
      "  (22370, 15783)\t0.14300307413410654\n",
      "  (22370, 15418)\t0.3407127250920133\n",
      "  (22370, 15302)\t0.3029684899131132\n",
      "  (22370, 3259)\t0.32316265517407466\n",
      "  (22371, 32284)\t0.3739241104372719\n",
      "  (22371, 26565)\t0.26625987117309696\n",
      "  (22371, 20235)\t0.33464196169260496\n",
      "  (22371, 16242)\t0.40084017025331564\n",
      "  (22371, 15302)\t0.3424343391181656\n",
      "  (22371, 13094)\t0.3095323515867952\n",
      "  (22371, 7414)\t0.20731842235964082\n",
      "  (22371, 3988)\t0.22787044372202037\n",
      "  (22371, 3261)\t0.2003940326816007\n",
      "  (22371, 2756)\t0.33834301476277495\n",
      "  (22371, 2746)\t0.23241594478721536\n",
      "  (22372, 31110)\t0.2752458471903924\n",
      "  (22372, 8673)\t0.3415167778878942\n",
      "  (22372, 8355)\t0.3415167778878942\n",
      "  (22372, 4830)\t0.6164905403371922\n",
      "  (22372, 2329)\t0.5575945822202196\n"
     ]
    }
   ],
   "source": [
    "x_train_transform = vectorizer.transform(x_train)\n",
    "print(x_train_transform)"
   ]
  },
  {
   "cell_type": "code",
   "execution_count": 53,
   "metadata": {},
   "outputs": [
    {
     "data": {
      "text/plain": [
       "MultinomialNB()"
      ]
     },
     "execution_count": 53,
     "metadata": {},
     "output_type": "execute_result"
    }
   ],
   "source": [
    "naive_bayes = MultinomialNB()\n",
    "naive_bayes.fit(x_train_transform, y_train)"
   ]
  },
  {
   "cell_type": "code",
   "execution_count": 54,
   "metadata": {},
   "outputs": [
    {
     "name": "stdout",
     "output_type": "stream",
     "text": [
      "  (0, 30472)\t0.11873986477160861\n",
      "  (0, 30124)\t0.44959194162481453\n",
      "  (0, 29195)\t0.2504697644159048\n",
      "  (0, 23041)\t0.43358263943463543\n",
      "  (0, 17238)\t0.3357589192163777\n",
      "  (0, 13772)\t0.3211249688731417\n",
      "  (0, 6469)\t0.39538754681556115\n",
      "  (0, 488)\t0.40106397593206\n",
      "  (1, 15783)\t0.16722080322813387\n",
      "  (1, 10760)\t0.2861969051904606\n",
      "  (1, 2539)\t0.3984128026961368\n",
      "  (1, 1125)\t0.3643729855623724\n",
      "  (1, 953)\t0.7737106051149311\n",
      "  (2, 22905)\t0.4284065036675352\n",
      "  (2, 9061)\t0.5571137360546001\n",
      "  (2, 8540)\t0.4405400392937998\n",
      "  (2, 3727)\t0.5585844846517496\n",
      "  (3, 32050)\t0.597476416422062\n",
      "  (3, 23866)\t0.30380563492700424\n",
      "  (3, 10133)\t0.7421078546990665\n",
      "  (4, 9168)\t1.0\n",
      "  (5, 32382)\t0.2508006443307554\n",
      "  (5, 30472)\t0.08314115631769542\n",
      "  (5, 27043)\t0.3181690077768375\n",
      "  (5, 24572)\t0.2609004532947117\n",
      "  :\t:\n",
      "  (9584, 27314)\t0.3390385760807178\n",
      "  (9584, 15145)\t0.43003051269178755\n",
      "  (9584, 9816)\t0.3109551655054146\n",
      "  (9585, 30472)\t0.11599710762585064\n",
      "  (9585, 16999)\t0.25101689079122846\n",
      "  (9585, 16137)\t0.391799849785297\n",
      "  (9585, 14184)\t0.5814858048557198\n",
      "  (9585, 13271)\t0.3378994750035474\n",
      "  (9585, 6454)\t0.3141950683252937\n",
      "  (9585, 1298)\t0.4679826191770874\n",
      "  (9586, 21901)\t0.282732801368146\n",
      "  (9586, 17307)\t0.3658625158188604\n",
      "  (9586, 16716)\t0.4851097715366955\n",
      "  (9586, 8681)\t0.298191355108191\n",
      "  (9586, 7172)\t0.524462418067374\n",
      "  (9586, 190)\t0.4323151395481002\n",
      "  (9587, 31564)\t0.5002188831921697\n",
      "  (9587, 31049)\t0.4371473564556497\n",
      "  (9587, 26049)\t0.449958067393408\n",
      "  (9587, 24572)\t0.3709718209372403\n",
      "  (9587, 12301)\t0.30125036908592906\n",
      "  (9587, 1772)\t0.3575599508131535\n",
      "  (9588, 30472)\t0.18781022261474176\n",
      "  (9588, 16817)\t0.5295605447305988\n",
      "  (9588, 12125)\t0.8272200129022705\n"
     ]
    }
   ],
   "source": [
    "x_test_transform = vectorizer.transform(x_test)\n",
    "print(x_test_transform)"
   ]
  },
  {
   "cell_type": "code",
   "execution_count": 55,
   "metadata": {},
   "outputs": [
    {
     "name": "stdout",
     "output_type": "stream",
     "text": [
      "Accuracy = 94.1391%\n"
     ]
    }
   ],
   "source": [
    "y_predict = naive_bayes.predict(x_test_transform)\n",
    "print(\"Accuracy = \" + str(round(metrics.accuracy_score(y_test, y_predict) * 100, 4)) + \"%\")"
   ]
  },
  {
   "cell_type": "code",
   "execution_count": 56,
   "metadata": {},
   "outputs": [
    {
     "name": "stdout",
     "output_type": "stream",
     "text": [
      "[[8939    1]\n",
      " [ 561   88]]\n"
     ]
    }
   ],
   "source": [
    "confusion_matrix = metrics.confusion_matrix(y_test, y_predict)\n",
    "print(confusion_matrix)"
   ]
  },
  {
   "cell_type": "code",
   "execution_count": null,
   "metadata": {},
   "outputs": [],
   "source": []
  }
 ],
 "metadata": {
  "kernelspec": {
   "display_name": "Python 3",
   "language": "python",
   "name": "python3"
  },
  "language_info": {
   "codemirror_mode": {
    "name": "ipython",
    "version": 3
   },
   "file_extension": ".py",
   "mimetype": "text/x-python",
   "name": "python",
   "nbconvert_exporter": "python",
   "pygments_lexer": "ipython3",
   "version": "3.8.3"
  }
 },
 "nbformat": 4,
 "nbformat_minor": 4
}

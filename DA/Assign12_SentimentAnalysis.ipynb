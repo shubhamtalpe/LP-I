{
 "cells": [
  {
   "cell_type": "code",
   "execution_count": 1,
   "metadata": {},
   "outputs": [],
   "source": [
    "import pandas as pd\n",
    "import nltk\n",
    "from sklearn.model_selection import train_test_split\n",
    "from sklearn.feature_extraction.text import TfidfVectorizer\n",
    "from sklearn.naive_bayes import MultinomialNB\n",
    "from sklearn import metrics"
   ]
  },
  {
   "cell_type": "code",
   "execution_count": 2,
   "metadata": {},
   "outputs": [],
   "source": [
    "text_dataframe = pd.read_csv('Train.csv')"
   ]
  },
  {
   "cell_type": "code",
   "execution_count": 3,
   "metadata": {},
   "outputs": [
    {
     "data": {
      "text/html": [
       "<div>\n",
       "<style scoped>\n",
       "    .dataframe tbody tr th:only-of-type {\n",
       "        vertical-align: middle;\n",
       "    }\n",
       "\n",
       "    .dataframe tbody tr th {\n",
       "        vertical-align: top;\n",
       "    }\n",
       "\n",
       "    .dataframe thead th {\n",
       "        text-align: right;\n",
       "    }\n",
       "</style>\n",
       "<table border=\"1\" class=\"dataframe\">\n",
       "  <thead>\n",
       "    <tr style=\"text-align: right;\">\n",
       "      <th></th>\n",
       "      <th>id</th>\n",
       "      <th>label</th>\n",
       "      <th>tweet</th>\n",
       "    </tr>\n",
       "  </thead>\n",
       "  <tbody>\n",
       "    <tr>\n",
       "      <th>0</th>\n",
       "      <td>1</td>\n",
       "      <td>0</td>\n",
       "      <td>@user when a father is dysfunctional and is s...</td>\n",
       "    </tr>\n",
       "    <tr>\n",
       "      <th>1</th>\n",
       "      <td>2</td>\n",
       "      <td>0</td>\n",
       "      <td>@user @user thanks for #lyft credit i can't us...</td>\n",
       "    </tr>\n",
       "    <tr>\n",
       "      <th>2</th>\n",
       "      <td>3</td>\n",
       "      <td>0</td>\n",
       "      <td>bihday your majesty</td>\n",
       "    </tr>\n",
       "    <tr>\n",
       "      <th>3</th>\n",
       "      <td>4</td>\n",
       "      <td>0</td>\n",
       "      <td>#model   i love u take with u all the time in ...</td>\n",
       "    </tr>\n",
       "    <tr>\n",
       "      <th>4</th>\n",
       "      <td>5</td>\n",
       "      <td>0</td>\n",
       "      <td>factsguide: society now    #motivation</td>\n",
       "    </tr>\n",
       "  </tbody>\n",
       "</table>\n",
       "</div>"
      ],
      "text/plain": [
       "   id  label                                              tweet\n",
       "0   1      0   @user when a father is dysfunctional and is s...\n",
       "1   2      0  @user @user thanks for #lyft credit i can't us...\n",
       "2   3      0                                bihday your majesty\n",
       "3   4      0  #model   i love u take with u all the time in ...\n",
       "4   5      0             factsguide: society now    #motivation"
      ]
     },
     "execution_count": 3,
     "metadata": {},
     "output_type": "execute_result"
    }
   ],
   "source": [
    "text_dataframe.head()"
   ]
  },
  {
   "cell_type": "code",
   "execution_count": 4,
   "metadata": {},
   "outputs": [],
   "source": [
    "x_train = text_dataframe.tweet\n",
    "y_train = text_dataframe.label"
   ]
  },
  {
   "cell_type": "code",
   "execution_count": 5,
   "metadata": {},
   "outputs": [],
   "source": [
    "test_data = pd.read_csv('Test.csv')"
   ]
  },
  {
   "cell_type": "code",
   "execution_count": 6,
   "metadata": {},
   "outputs": [
    {
     "data": {
      "text/html": [
       "<div>\n",
       "<style scoped>\n",
       "    .dataframe tbody tr th:only-of-type {\n",
       "        vertical-align: middle;\n",
       "    }\n",
       "\n",
       "    .dataframe tbody tr th {\n",
       "        vertical-align: top;\n",
       "    }\n",
       "\n",
       "    .dataframe thead th {\n",
       "        text-align: right;\n",
       "    }\n",
       "</style>\n",
       "<table border=\"1\" class=\"dataframe\">\n",
       "  <thead>\n",
       "    <tr style=\"text-align: right;\">\n",
       "      <th></th>\n",
       "      <th>id</th>\n",
       "      <th>tweet</th>\n",
       "    </tr>\n",
       "  </thead>\n",
       "  <tbody>\n",
       "    <tr>\n",
       "      <th>0</th>\n",
       "      <td>31963</td>\n",
       "      <td>#studiolife #aislife #requires #passion #dedic...</td>\n",
       "    </tr>\n",
       "    <tr>\n",
       "      <th>1</th>\n",
       "      <td>31964</td>\n",
       "      <td>@user #white #supremacists want everyone to s...</td>\n",
       "    </tr>\n",
       "    <tr>\n",
       "      <th>2</th>\n",
       "      <td>31965</td>\n",
       "      <td>safe ways to heal your #acne!!    #altwaystohe...</td>\n",
       "    </tr>\n",
       "    <tr>\n",
       "      <th>3</th>\n",
       "      <td>31966</td>\n",
       "      <td>is the hp and the cursed child book up for res...</td>\n",
       "    </tr>\n",
       "    <tr>\n",
       "      <th>4</th>\n",
       "      <td>31967</td>\n",
       "      <td>3rd #bihday to my amazing, hilarious #nephew...</td>\n",
       "    </tr>\n",
       "  </tbody>\n",
       "</table>\n",
       "</div>"
      ],
      "text/plain": [
       "      id                                              tweet\n",
       "0  31963  #studiolife #aislife #requires #passion #dedic...\n",
       "1  31964   @user #white #supremacists want everyone to s...\n",
       "2  31965  safe ways to heal your #acne!!    #altwaystohe...\n",
       "3  31966  is the hp and the cursed child book up for res...\n",
       "4  31967    3rd #bihday to my amazing, hilarious #nephew..."
      ]
     },
     "execution_count": 6,
     "metadata": {},
     "output_type": "execute_result"
    }
   ],
   "source": [
    "test_data.head()"
   ]
  },
  {
   "cell_type": "code",
   "execution_count": 7,
   "metadata": {},
   "outputs": [],
   "source": [
    "x_test = test_data.tweet"
   ]
  },
  {
   "cell_type": "code",
   "execution_count": 8,
   "metadata": {},
   "outputs": [
    {
     "name": "stdout",
     "output_type": "stream",
     "text": [
      "41104\n"
     ]
    }
   ],
   "source": [
    "vectorizer = TfidfVectorizer(stop_words = 'english')\n",
    "vectorizer.fit(x_train)\n",
    "print(len(vectorizer.get_feature_names()))"
   ]
  },
  {
   "cell_type": "code",
   "execution_count": 9,
   "metadata": {},
   "outputs": [
    {
     "name": "stdout",
     "output_type": "stream",
     "text": [
      "  (0, 38161)\t0.09139819051005513\n",
      "  (0, 32080)\t0.39172972116286064\n",
      "  (0, 31207)\t0.3009859709057204\n",
      "  (0, 20140)\t0.2715113223351639\n",
      "  (0, 12981)\t0.22565105522349607\n",
      "  (0, 11373)\t0.4749826450114022\n",
      "  (0, 11372)\t0.4569486047772752\n",
      "  (0, 11051)\t0.4342284010719509\n",
      "  (1, 39521)\t0.32856425630477487\n",
      "  (1, 38306)\t0.3380296747407002\n",
      "  (1, 38161)\t0.13522440067438832\n",
      "  (1, 38152)\t0.21805715528620467\n",
      "  (1, 35980)\t0.18596486525981046\n",
      "  (1, 27319)\t0.32856425630477487\n",
      "  (1, 26115)\t0.26573580587032575\n",
      "  (1, 22203)\t0.31522349830514396\n",
      "  (1, 14989)\t0.3380296747407002\n",
      "  (1, 10839)\t0.16168205318348794\n",
      "  (1, 10458)\t0.3513704327403312\n",
      "  (1, 8964)\t0.28507537293802393\n",
      "  (1, 6850)\t0.2330103781809303\n",
      "  (2, 22413)\t0.8803972062838852\n",
      "  (2, 4699)\t0.4742370284652285\n",
      "  (3, 38135)\t0.581793738185098\n",
      "  (3, 36564)\t0.4545478693192683\n",
      "  :\t:\n",
      "  (31958, 22638)\t0.32530121686453684\n",
      "  (31958, 21274)\t0.13596613921724965\n",
      "  (31958, 18244)\t0.2762757519718976\n",
      "  (31958, 16907)\t0.23329534756537715\n",
      "  (31958, 14915)\t0.2660263924306692\n",
      "  (31958, 7412)\t0.32530121686453684\n",
      "  (31958, 1841)\t0.32530121686453684\n",
      "  (31959, 40097)\t0.2481969249150418\n",
      "  (31959, 33614)\t0.38493137255710247\n",
      "  (31959, 31342)\t0.5218379972550838\n",
      "  (31959, 26651)\t0.4734039800315836\n",
      "  (31959, 24030)\t0.25741216133237826\n",
      "  (31959, 23884)\t0.30356492899452925\n",
      "  (31959, 21426)\t0.3679500160046488\n",
      "  (31960, 40287)\t0.3857653839202366\n",
      "  (31960, 38286)\t0.3857653839202366\n",
      "  (31960, 38161)\t0.09815179529663164\n",
      "  (31960, 35816)\t0.37337010524441994\n",
      "  (31960, 32797)\t0.38402832173516094\n",
      "  (31960, 8320)\t0.3857653839202366\n",
      "  (31960, 6377)\t0.3776503355351552\n",
      "  (31960, 1407)\t0.3382582851489328\n",
      "  (31961, 38161)\t0.24620880606922313\n",
      "  (31961, 35967)\t0.6783725743494851\n",
      "  (31961, 13847)\t0.6922368627748887\n"
     ]
    }
   ],
   "source": [
    "x_train_transform = vectorizer.transform(x_train)\n",
    "print(x_train_transform)"
   ]
  },
  {
   "cell_type": "code",
   "execution_count": 10,
   "metadata": {},
   "outputs": [
    {
     "data": {
      "text/plain": [
       "MultinomialNB()"
      ]
     },
     "execution_count": 10,
     "metadata": {},
     "output_type": "execute_result"
    }
   ],
   "source": [
    "naive_bayes = MultinomialNB()\n",
    "naive_bayes.fit(x_train_transform, y_train)"
   ]
  },
  {
   "cell_type": "code",
   "execution_count": 11,
   "metadata": {},
   "outputs": [
    {
     "name": "stdout",
     "output_type": "stream",
     "text": [
      "  (0, 34637)\t0.5379980273221591\n",
      "  (0, 30420)\t0.5229331474407908\n",
      "  (0, 27164)\t0.41919519491929175\n",
      "  (0, 9828)\t0.511247918784723\n",
      "  (1, 39590)\t0.32442067916027545\n",
      "  (1, 38940)\t0.2654385004861108\n",
      "  (1, 38161)\t0.11064535478970418\n",
      "  (1, 35047)\t0.5750072619923141\n",
      "  (1, 25060)\t0.24482066654491863\n",
      "  (1, 24154)\t0.36383359003272386\n",
      "  (1, 16900)\t0.5376856326040664\n",
      "  (2, 39103)\t0.41182413946571506\n",
      "  (2, 31362)\t0.3904781364999476\n",
      "  (2, 16714)\t0.2757535149557975\n",
      "  (2, 16697)\t0.3367465689356494\n",
      "  (2, 16691)\t0.40375914764417015\n",
      "  (2, 2174)\t0.3144911863294974\n",
      "  (2, 1392)\t0.4759866539968958\n",
      "  (3, 40560)\t0.3154396115027584\n",
      "  (3, 16503)\t0.4965621707940472\n",
      "  (3, 13040)\t0.35748628414142025\n",
      "  (3, 9239)\t0.5431667129881697\n",
      "  (3, 7321)\t0.35127587505713936\n",
      "  (3, 5370)\t0.3281807431683347\n",
      "  (4, 37836)\t0.37189532578082957\n",
      "  :\t:\n",
      "  (17194, 36089)\t0.3715688379757305\n",
      "  (17194, 31663)\t0.21353938523959407\n",
      "  (17194, 26271)\t0.24032721878775978\n",
      "  (17194, 26159)\t0.3245777796397095\n",
      "  (17194, 21274)\t0.1614339035131237\n",
      "  (17194, 17028)\t0.26770904267053885\n",
      "  (17194, 10316)\t0.21896225792731377\n",
      "  (17194, 7777)\t0.29488544510884773\n",
      "  (17194, 3043)\t0.34649984223347935\n",
      "  (17194, 2328)\t0.2895786476267519\n",
      "  (17195, 40097)\t0.4237203790876983\n",
      "  (17195, 30726)\t0.22430173069273068\n",
      "  (17195, 26551)\t0.2960628262902741\n",
      "  (17195, 23517)\t0.5756244660784122\n",
      "  (17195, 20864)\t0.29312606117890155\n",
      "  (17195, 16407)\t0.1655730520805092\n",
      "  (17195, 10222)\t0.2878122330392061\n",
      "  (17195, 9187)\t0.28093607149419814\n",
      "  (17195, 8345)\t0.27578029266766174\n",
      "  (17196, 33609)\t0.34182556099612826\n",
      "  (17196, 25190)\t0.5136961930757328\n",
      "  (17196, 25161)\t0.4571820036762332\n",
      "  (17196, 15191)\t0.37793930477182724\n",
      "  (17196, 14150)\t0.29955673988299186\n",
      "  (17196, 10996)\t0.42152552008511607\n"
     ]
    }
   ],
   "source": [
    "x_test_transform = vectorizer.transform(x_test)\n",
    "print(x_test_transform)"
   ]
  },
  {
   "cell_type": "code",
   "execution_count": 20,
   "metadata": {},
   "outputs": [
    {
     "name": "stdout",
     "output_type": "stream",
     "text": [
      "Accuracy = 98.7905%\n"
     ]
    }
   ],
   "source": [
    "y_predict = naive_bayes.predict(x_test_transform)\n",
    "y_test = pd.read_csv('test_answers.csv')['label']\n",
    "print(\"Accuracy = \" + str(round(metrics.accuracy_score(y_test, y_predict) * 100, 4)) + \"%\")"
   ]
  },
  {
   "cell_type": "code",
   "execution_count": 21,
   "metadata": {},
   "outputs": [
    {
     "name": "stdout",
     "output_type": "stream",
     "text": [
      "[[16989   208]\n",
      " [    0     0]]\n"
     ]
    }
   ],
   "source": [
    "confusion_matrix = metrics.confusion_matrix(y_test, y_predict)\n",
    "print(confusion_matrix)"
   ]
  },
  {
   "cell_type": "code",
   "execution_count": null,
   "metadata": {},
   "outputs": [],
   "source": []
  }
 ],
 "metadata": {
  "kernelspec": {
   "display_name": "Python 3",
   "language": "python",
   "name": "python3"
  },
  "language_info": {
   "codemirror_mode": {
    "name": "ipython",
    "version": 3
   },
   "file_extension": ".py",
   "mimetype": "text/x-python",
   "name": "python",
   "nbconvert_exporter": "python",
   "pygments_lexer": "ipython3",
   "version": "3.8.3"
  }
 },
 "nbformat": 4,
 "nbformat_minor": 4
}

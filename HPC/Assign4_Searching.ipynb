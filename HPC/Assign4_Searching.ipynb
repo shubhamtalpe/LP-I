{
  "nbformat": 4,
  "nbformat_minor": 0,
  "metadata": {
    "colab": {
      "name": "Assign4_Searching.ipynb",
      "provenance": [],
      "collapsed_sections": []
    },
    "kernelspec": {
      "name": "python3",
      "display_name": "Python 3"
    }
  },
  "cells": [
    {
      "cell_type": "code",
      "metadata": {
        "colab": {
          "base_uri": "https://localhost:8080/"
        },
        "id": "T7PJvBpzAeeA",
        "outputId": "03538067-9fac-4836-f485-235bfda13157"
      },
      "source": [
        "%%writefile assign4.cpp\n",
        "#include<bits/stdc++.h>\n",
        "#include \"omp.h\"\n",
        "\n",
        "using namespace std;\n",
        "list<int>q;\n",
        "vector<int>w(7,1000);\n",
        "int visited[7];\n",
        "int local_q;\n",
        "\n",
        "struct Comp\n",
        "{\n",
        "    // Compare 2 Player objects using name\n",
        "    bool operator ()(const int & a, const int & b)\n",
        "    {\n",
        "        return w[a]<w[b];\n",
        "    }\n",
        "};\n",
        "\n",
        "void showlist(list <int> g) \n",
        "{ \n",
        "    list <int> :: iterator it; \n",
        "    for(it = g.begin(); it != g.end(); ++it) \n",
        "        cout<<*it<<\" \"; \n",
        "    cout<<endl; \n",
        "}\n",
        "\n",
        "void showvec(vector <int> g) \n",
        "{ \n",
        "    vector <int> :: iterator it; \n",
        "    for(it = g.begin(); it != g.end(); ++it) \n",
        "        cout<<*it<<\" \"; \n",
        "    cout<<endl; \n",
        "}\n",
        "\n",
        "void bfs(int adj_matrix[7][7],  int n_nodes)\n",
        "{\n",
        "\t\tif(q.empty())\n",
        "\t\t\treturn;\n",
        "    q.sort(Comp());\n",
        "    //showlist(q);\n",
        "    //showvec(w);\n",
        "\t\t//pop first element\n",
        "\t\tint cur_node = q.front();\n",
        "    q.pop_front();\n",
        "\t\t\n",
        "\t\tprintf(\"%d, \", cur_node);\n",
        "\t\tomp_set_num_threads(3);\n",
        "\t\t#pragma omp parallel for shared(visited)\n",
        "\t\tfor(int i=0; i<n_nodes; i++)\n",
        "\t\t{\n",
        "\t\t\tif(adj_matrix[cur_node][i]>0 && visited[i]==0)\n",
        "\t\t\t{\n",
        "        if(w[i] > adj_matrix[cur_node][i]){\n",
        "            w[i] = adj_matrix[cur_node][i];\n",
        "            //cout<<i<<\" \"<<w[i]<<endl;\n",
        "        }\n",
        "\t\t\t\tq.push_back(i);\n",
        "\t\t\t\tvisited[i]=1;\n",
        "\t\t\t}\n",
        "\t\t}\n",
        "\tbfs(adj_matrix,  n_nodes);\n",
        "}\n",
        "\n",
        "int main()\n",
        "{\n",
        "  int th = omp_get_max_threads();\n",
        "  cout<<\"Max Threads : \"<<th<<endl;\n",
        "\n",
        "\tint n_nodes = 7;\n",
        "\tfor(int i=0; i<n_nodes; i++)\n",
        "\t{\n",
        "\t\tvisited[i] = 0;\n",
        "\t}\n",
        "\t//shows graph connections\n",
        "\tint adj_matrix[7][7] = {\n",
        "\t\t\t\t\t\t\t{0,  10  ,20  ,0  ,0  ,0  ,0},\n",
        "\t\t\t\t\t\t\t{10\t,0\t,30\t,30\t,0\t,0\t,0},\n",
        "\t\t\t\t\t\t\t{20\t,30\t,0\t,0\t,40\t,0\t,0},\n",
        "\t\t\t\t\t\t\t{0\t,30\t,0\t,0\t,20\t,0\t,0},\n",
        "\t\t\t\t\t\t\t{0\t,0\t,40\t,20\t,0\t,10\t,0},\n",
        "\t\t\t\t\t\t\t{0\t,0\t,0\t,0\t,10\t,0\t,20},\n",
        "\t\t\t\t\t\t\t{0\t,0\t,0\t,0\t,0\t,20\t,0}\n",
        "\t\t\t\t\t\t\t};\n",
        "\n",
        "\tint start_node = 3;\t//set start node as 1\n",
        "\tq.push_back(start_node);\n",
        "    w[start_node] = 0;\n",
        "\tvisited[start_node] = 1;\n",
        "\t\n",
        "\t//int cur_node;\n",
        "\tbfs(adj_matrix,  n_nodes);\n",
        "\n",
        "\treturn 0;\n",
        "}"
      ],
      "execution_count": 1,
      "outputs": [
        {
          "output_type": "stream",
          "text": [
            "Writing assign4.cpp\n"
          ],
          "name": "stdout"
        }
      ]
    },
    {
      "cell_type": "code",
      "metadata": {
        "colab": {
          "base_uri": "https://localhost:8080/"
        },
        "id": "vQHcYWmhAzk6",
        "outputId": "addb68b7-a755-4482-c57c-73950cdaf8a3"
      },
      "source": [
        "%%script bash\n",
        "\n",
        "g++ assign4.cpp -fopenmp -o assign\n",
        "./assign"
      ],
      "execution_count": 2,
      "outputs": [
        {
          "output_type": "stream",
          "text": [
            "Max Threads : 2\n",
            "3, 4, 5, 6, 1, 0, 2, "
          ],
          "name": "stdout"
        }
      ]
    },
    {
      "cell_type": "code",
      "metadata": {
        "colab": {
          "base_uri": "https://localhost:8080/"
        },
        "id": "XpX4PzOtA4fx",
        "outputId": "a2a348bc-5651-415f-d438-1421330f5c27"
      },
      "source": [
        "%%writefile assign4.cpp\n",
        "#include<iostream>\n",
        "#include<omp.h>\n",
        "#include<time.h>\n",
        "using namespace std;\n",
        "int c1[3];\n",
        "int binary_search(int a[],int low,int high,int key){\n",
        "  \n",
        "  int loc = -1;\n",
        "  int mid;\n",
        "  while(low<=high){\n",
        "    mid = (high + low )/2;\n",
        "    if (a[mid] == key) {\n",
        "      loc = mid;\n",
        "      break;\n",
        "    }\n",
        "    else {\n",
        "      #pragma omp parallel sections\n",
        "      {\n",
        "        //cout<<omp_get_thread_num();\n",
        "        #pragma omp section\n",
        "        {\n",
        "          if(a[mid]<key){\n",
        "            low = mid+1;\n",
        "          }\n",
        "        }\n",
        "        #pragma omp section\n",
        "        {\n",
        "          if(a[mid]>key){\n",
        "            high = mid-1;\n",
        "          }\n",
        "        }\n",
        "      }\n",
        "    }\n",
        "  }\n",
        "  return loc;\n",
        "}\n",
        "\n",
        "int main(){\n",
        "  int th = omp_get_max_threads();\n",
        "  cout<<\"Max Threads : \"<<th<<endl;\n",
        "  omp_set_num_threads(2);\n",
        "  c1[1]=0;\n",
        "  c1[2]=0;\n",
        "  int a[1000000];\n",
        "  clock_t t1,t2;\n",
        "  int key = 0;\n",
        "  int loc,i;\n",
        "  for (int i = 0; i < 1000000; i++) {\n",
        "    a[i] = i;\n",
        "  }\n",
        "  key = 10000;\n",
        "  t1 = clock();\n",
        "  loc = binary_search(a,0,1000000,key);\n",
        "  t2 = clock();\n",
        "  if (loc == -1) {\n",
        "    cout<<\"Not Found\";\n",
        "  } else {\n",
        "    cout<<\"Found at index = \"<<loc<<endl;\n",
        "    //cout<<\"By Thread \"<<omp_get_thread_num()<<endl;\n",
        "  }\n",
        "  return 0 ;\n",
        "}"
      ],
      "execution_count": 7,
      "outputs": [
        {
          "output_type": "stream",
          "text": [
            "Overwriting assign4.cpp\n"
          ],
          "name": "stdout"
        }
      ]
    },
    {
      "cell_type": "code",
      "metadata": {
        "colab": {
          "base_uri": "https://localhost:8080/"
        },
        "id": "7dpmDOgbBULX",
        "outputId": "75e506dc-72e5-4fea-aa1c-f447db8672f8"
      },
      "source": [
        "%%script bash\n",
        "\n",
        "g++ assign4.cpp -fopenmp -o assign\n",
        "./assign"
      ],
      "execution_count": 8,
      "outputs": [
        {
          "output_type": "stream",
          "text": [
            "Max Threads : 2\n",
            "Found at index = 10000\n"
          ],
          "name": "stdout"
        }
      ]
    },
    {
      "cell_type": "code",
      "metadata": {
        "id": "lGdcW5jgBWR2"
      },
      "source": [
        ""
      ],
      "execution_count": null,
      "outputs": []
    }
  ]
}